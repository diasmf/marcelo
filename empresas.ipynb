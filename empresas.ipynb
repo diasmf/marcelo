{
  "nbformat": 4,
  "nbformat_minor": 0,
  "metadata": {
    "colab": {
      "provenance": [],
      "authorship_tag": "ABX9TyP3oXvbKcoF8Ni02FcknLOb",
      "include_colab_link": true
    },
    "kernelspec": {
      "name": "python3",
      "display_name": "Python 3"
    },
    "language_info": {
      "name": "python"
    }
  },
  "cells": [
    {
      "cell_type": "markdown",
      "metadata": {
        "id": "view-in-github",
        "colab_type": "text"
      },
      "source": [
        "<a href=\"https://colab.research.google.com/github/diasmf/marcelo/blob/master/empresas.ipynb\" target=\"_parent\"><img src=\"https://colab.research.google.com/assets/colab-badge.svg\" alt=\"Open In Colab\"/></a>"
      ]
    },
    {
      "cell_type": "markdown",
      "source": [
        "Montando o google drive"
      ],
      "metadata": {
        "id": "XQibWqQAZEtG"
      }
    },
    {
      "cell_type": "code",
      "execution_count": 1,
      "metadata": {
        "colab": {
          "base_uri": "https://localhost:8080/"
        },
        "id": "c-qJaMp-Y8S0",
        "outputId": "59b396fc-7b7c-407f-948f-f1e21b1b6b22"
      },
      "outputs": [
        {
          "output_type": "stream",
          "name": "stdout",
          "text": [
            "Drive already mounted at /content/drive; to attempt to forcibly remount, call drive.mount(\"/content/drive\", force_remount=True).\n"
          ]
        }
      ],
      "source": [
        "from google.colab import drive\n",
        "drive.mount('/content/drive')"
      ]
    },
    {
      "cell_type": "markdown",
      "source": [
        "importando pacotes"
      ],
      "metadata": {
        "id": "SDhgpO9ZKWY5"
      }
    },
    {
      "cell_type": "code",
      "source": [
        "import pandas as pd\n",
        "import zipfile \n",
        "import os\n",
        "import csv\n",
        "\n",
        "\n",
        "pd.options.display.max_rows = None\n"
      ],
      "metadata": {
        "id": "poUVZF4TMWln"
      },
      "execution_count": 3,
      "outputs": []
    },
    {
      "cell_type": "markdown",
      "source": [
        "importando arquivos"
      ],
      "metadata": {
        "id": "zEUjC6WtMc_x"
      }
    },
    {
      "cell_type": "code",
      "source": [
        "os.chdir(\"/content/drive/MyDrive/microdados/Empresas 2022\")\n",
        "\n",
        "\n",
        "dfs = []\n",
        "\n",
        "# loop through each zip file\n",
        "for i in range(0, 10):\n",
        "    zip_file = f\"Empresas{i}.zip\"\n",
        "    \n",
        "    # create a ZipFile object with the name of the zip file\n",
        "    with zipfile.ZipFile(zip_file, 'r') as zip_ref:\n",
        "        # loop through all the files in the zip archive\n",
        "        for file_name in zip_ref.namelist():\n",
        "            # check if the file is a CSV file\n",
        "            if file_name.endswith('.EMPRECSV'):\n",
        "                # extract the CSV file to the current working directory\n",
        "                zip_ref.extract(file_name)\n",
        "                # read the CSV file into a DataFrame and append it to the list\n",
        "                df = pd.read_csv(file_name, delimiter=';', encoding='cp1252', header=None)\n",
        "                dfs.append(df)\n",
        "                # delete the extracted CSV file\n",
        "                os.remove(file_name)\n",
        "\n",
        "# concatenate all the DataFrames in the list into a single DataFrame\n",
        "empresas = pd.concat(dfs, ignore_index=True, axis=0)\n",
        "\n",
        "# set the column names\n",
        "empresas_layout = [\"CNPJ\", \"RAZAO _SOCIAL\", \"NAT_JUR\", \"QUALIF_RESP\", \"CAPITAL_SOCIAL\", \"PORTE\", \"ENTE_RESPONSAVEL\"]\n",
        "empresas.columns = empresas_layout\n",
        "\n",
        "# save the  DataFrame\n",
        "# empresas.to_csv(\"empresas_total.csv\",index=False, sep=\";\", quoting=csv.QUOTE_ALL, quotechar='\"')"
      ],
      "metadata": {
        "id": "3ZdBHF4WOk5z"
      },
      "execution_count": 4,
      "outputs": []
    },
    {
      "cell_type": "code",
      "source": [
        "print(empresas)\n"
      ],
      "metadata": {
        "id": "iaKkrqQQSvlv"
      },
      "execution_count": null,
      "outputs": []
    },
    {
      "cell_type": "code",
      "source": [],
      "metadata": {
        "id": "p2qU28b_SvgH"
      },
      "execution_count": null,
      "outputs": []
    },
    {
      "cell_type": "code",
      "source": [
        "empresas_layout = [\"CNPJ\", \"RAZAO _SOCIAL\", \"NAT_JUR\", \"QUALIF_RESP\", \"CAPITAL_SOCIAL\", \"PORTE\", \"ENTE_RESPONSAVEL\"]\n",
        "empresas.columns = empresas_layout\n",
        "\n",
        "# save the  DataFrame\n",
        "empresas.to_csv(\"empresas_total.csv\",index=False, sep=\";\", quoting=csv.QUOTE_ALL, quotechar='\"')"
      ],
      "metadata": {
        "id": "tXg6nSv8Nrpb"
      },
      "execution_count": null,
      "outputs": []
    },
    {
      "cell_type": "code",
      "source": [
        "teste = pd.read_csv(\"K3241.K03200Y0.D20910EMPRECSV.csv\", delimiter=';', encoding='ISO-8859-1', header=None)\n",
        "\n",
        "\n"
      ],
      "metadata": {
        "id": "_QVitbtuc1fv"
      },
      "execution_count": null,
      "outputs": []
    },
    {
      "cell_type": "code",
      "source": [
        "empresas.value_counts()"
      ],
      "metadata": {
        "id": "VUgxK3QudTMi"
      },
      "execution_count": null,
      "outputs": []
    },
    {
      "cell_type": "markdown",
      "source": [],
      "metadata": {
        "id": "B1-22pK6c1If"
      }
    }
  ]
}